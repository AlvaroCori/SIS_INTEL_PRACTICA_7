{
 "cells": [
  {
   "cell_type": "code",
   "execution_count": 596,
   "id": "63fed0e2",
   "metadata": {},
   "outputs": [],
   "source": [
    "import numpy\n",
    "from keras.datasets import mnist\n",
    "from keras.models import Sequential\n",
    "from keras.layers import Dense\n",
    "from keras.layers import Dropout\n",
    "from keras.utils import np_utils\n",
    "from tensorflow.keras import metrics\n",
    "from tensorflow.keras import optimizers\n",
    "from sklearn.preprocessing import OneHotEncoder, MinMaxScaler, LabelEncoder\n",
    "\n",
    "from clean_variables import *\n",
    "from select_variables import *\n",
    "\n",
    "import csv \n",
    "import pandas as pd\n",
    "import random\n",
    "import matplotlib.pyplot as plt\n",
    "\n",
    "seed = 7\n",
    "numpy.random.seed(seed)"
   ]
  },
  {
   "cell_type": "markdown",
   "id": "e93be2a5",
   "metadata": {},
   "source": [
    "# Data Inputs, data cleansing and data analysis"
   ]
  },
  {
   "cell_type": "markdown",
   "id": "4573f3b8",
   "metadata": {},
   "source": [
    "### Getting the data inputs"
   ]
  },
  {
   "cell_type": "markdown",
   "id": "a2f43695",
   "metadata": {},
   "source": [
    "In the first step we get the data inputs from a .csv file where we recieve 7 columns, 6 for the x variable and 1 for the y variable "
   ]
  },
  {
   "cell_type": "code",
   "execution_count": 597,
   "id": "ae759b10",
   "metadata": {},
   "outputs": [],
   "source": [
    "stars = pd.read_csv(\"assignment_ds.csv\")"
   ]
  },
  {
   "cell_type": "code",
   "execution_count": 598,
   "id": "5bee5f9b",
   "metadata": {},
   "outputs": [
    {
     "data": {
      "text/html": [
       "<div>\n",
       "<style scoped>\n",
       "    .dataframe tbody tr th:only-of-type {\n",
       "        vertical-align: middle;\n",
       "    }\n",
       "\n",
       "    .dataframe tbody tr th {\n",
       "        vertical-align: top;\n",
       "    }\n",
       "\n",
       "    .dataframe thead th {\n",
       "        text-align: right;\n",
       "    }\n",
       "</style>\n",
       "<table border=\"1\" class=\"dataframe\">\n",
       "  <thead>\n",
       "    <tr style=\"text-align: right;\">\n",
       "      <th></th>\n",
       "      <th>Temperature</th>\n",
       "      <th>L</th>\n",
       "      <th>R</th>\n",
       "      <th>A_M</th>\n",
       "      <th>Color</th>\n",
       "      <th>Spectral_Class</th>\n",
       "      <th>Type</th>\n",
       "    </tr>\n",
       "  </thead>\n",
       "  <tbody>\n",
       "    <tr>\n",
       "      <th>0</th>\n",
       "      <td>3453</td>\n",
       "      <td>0.000621</td>\n",
       "      <td>0.07730</td>\n",
       "      <td>17.08</td>\n",
       "      <td>Red</td>\n",
       "      <td>M</td>\n",
       "      <td>0</td>\n",
       "    </tr>\n",
       "    <tr>\n",
       "      <th>1</th>\n",
       "      <td>12098</td>\n",
       "      <td>689.000000</td>\n",
       "      <td>7.01000</td>\n",
       "      <td>0.02</td>\n",
       "      <td>Blue-white</td>\n",
       "      <td>A</td>\n",
       "      <td>3</td>\n",
       "    </tr>\n",
       "    <tr>\n",
       "      <th>2</th>\n",
       "      <td>2731</td>\n",
       "      <td>0.000437</td>\n",
       "      <td>0.08560</td>\n",
       "      <td>18.09</td>\n",
       "      <td>Red</td>\n",
       "      <td>M</td>\n",
       "      <td>0</td>\n",
       "    </tr>\n",
       "    <tr>\n",
       "      <th>3</th>\n",
       "      <td>37800</td>\n",
       "      <td>202900.000000</td>\n",
       "      <td>6.86000</td>\n",
       "      <td>-4.56</td>\n",
       "      <td>Blue</td>\n",
       "      <td>O</td>\n",
       "      <td>3</td>\n",
       "    </tr>\n",
       "    <tr>\n",
       "      <th>4</th>\n",
       "      <td>8570</td>\n",
       "      <td>0.000810</td>\n",
       "      <td>0.00970</td>\n",
       "      <td>14.20</td>\n",
       "      <td>Blue white</td>\n",
       "      <td>A</td>\n",
       "      <td>2</td>\n",
       "    </tr>\n",
       "    <tr>\n",
       "      <th>...</th>\n",
       "      <td>...</td>\n",
       "      <td>...</td>\n",
       "      <td>...</td>\n",
       "      <td>...</td>\n",
       "      <td>...</td>\n",
       "      <td>...</td>\n",
       "      <td>...</td>\n",
       "    </tr>\n",
       "    <tr>\n",
       "      <th>195</th>\n",
       "      <td>13420</td>\n",
       "      <td>0.000590</td>\n",
       "      <td>0.00981</td>\n",
       "      <td>13.67</td>\n",
       "      <td>Blue White</td>\n",
       "      <td>B</td>\n",
       "      <td>2</td>\n",
       "    </tr>\n",
       "    <tr>\n",
       "      <th>196</th>\n",
       "      <td>19860</td>\n",
       "      <td>0.001100</td>\n",
       "      <td>0.01310</td>\n",
       "      <td>11.34</td>\n",
       "      <td>Blue</td>\n",
       "      <td>B</td>\n",
       "      <td>2</td>\n",
       "    </tr>\n",
       "    <tr>\n",
       "      <th>197</th>\n",
       "      <td>13023</td>\n",
       "      <td>998.000000</td>\n",
       "      <td>6.21000</td>\n",
       "      <td>-1.38</td>\n",
       "      <td>Blue-white</td>\n",
       "      <td>A</td>\n",
       "      <td>3</td>\n",
       "    </tr>\n",
       "    <tr>\n",
       "      <th>198</th>\n",
       "      <td>39000</td>\n",
       "      <td>204000.000000</td>\n",
       "      <td>10.60000</td>\n",
       "      <td>-4.70</td>\n",
       "      <td>Blue</td>\n",
       "      <td>O</td>\n",
       "      <td>3</td>\n",
       "    </tr>\n",
       "    <tr>\n",
       "      <th>199</th>\n",
       "      <td>12010</td>\n",
       "      <td>0.000780</td>\n",
       "      <td>0.00920</td>\n",
       "      <td>12.13</td>\n",
       "      <td>Blue White</td>\n",
       "      <td>B</td>\n",
       "      <td>2</td>\n",
       "    </tr>\n",
       "  </tbody>\n",
       "</table>\n",
       "<p>200 rows × 7 columns</p>\n",
       "</div>"
      ],
      "text/plain": [
       "     Temperature              L         R    A_M       Color Spectral_Class  \\\n",
       "0           3453       0.000621   0.07730  17.08         Red              M   \n",
       "1          12098     689.000000   7.01000   0.02  Blue-white              A   \n",
       "2           2731       0.000437   0.08560  18.09         Red              M   \n",
       "3          37800  202900.000000   6.86000  -4.56        Blue              O   \n",
       "4           8570       0.000810   0.00970  14.20  Blue white              A   \n",
       "..           ...            ...       ...    ...         ...            ...   \n",
       "195        13420       0.000590   0.00981  13.67  Blue White              B   \n",
       "196        19860       0.001100   0.01310  11.34        Blue              B   \n",
       "197        13023     998.000000   6.21000  -1.38  Blue-white              A   \n",
       "198        39000  204000.000000  10.60000  -4.70        Blue              O   \n",
       "199        12010       0.000780   0.00920  12.13  Blue White              B   \n",
       "\n",
       "     Type  \n",
       "0       0  \n",
       "1       3  \n",
       "2       0  \n",
       "3       3  \n",
       "4       2  \n",
       "..    ...  \n",
       "195     2  \n",
       "196     2  \n",
       "197     3  \n",
       "198     3  \n",
       "199     2  \n",
       "\n",
       "[200 rows x 7 columns]"
      ]
     },
     "execution_count": 598,
     "metadata": {},
     "output_type": "execute_result"
    }
   ],
   "source": [
    "stars"
   ]
  },
  {
   "cell_type": "markdown",
   "id": "564f900c",
   "metadata": {},
   "source": [
    "#### Applying cleanliness to the data"
   ]
  },
  {
   "cell_type": "markdown",
   "id": "8d5eea03",
   "metadata": {},
   "source": [
    "2 columns of x variable are text and we will convert this type to a array of 0 and 1, first we filter the unique values and apply to lower a the colors column because some camps have upper letters that mark different for the similars texts that they don't have upper letters."
   ]
  },
  {
   "cell_type": "code",
   "execution_count": 599,
   "id": "a346e8e7",
   "metadata": {},
   "outputs": [
    {
     "name": "stdout",
     "output_type": "stream",
     "text": [
      "{'yellowish white', 'yellowish', 'blue white', 'yellow-white', 'blue', 'whitish', 'white', 'orange-red', 'blue-white', 'red', 'white-yellow', 'orange', 'pale yellow orange'}\n",
      "{'G', 'B', 'K', 'A', 'M', 'F', 'O'}\n"
     ]
    }
   ],
   "source": [
    "print(clean_colors(stars))\n",
    "print(clean_spectral_classes(stars))"
   ]
  },
  {
   "cell_type": "markdown",
   "id": "89a60688",
   "metadata": {},
   "source": [
    "We use this values for the variable x."
   ]
  },
  {
   "cell_type": "code",
   "execution_count": 600,
   "id": "149a3eed",
   "metadata": {},
   "outputs": [],
   "source": [
    "colors = ['whitish','red','pale yellow orange','white-yellow','blue','yellow-white','yellowish','yellowish white','orange-red','orange','white','blue white','blue-white']\n",
    "spectral_classes = ['O', 'F', 'G', 'K', 'A', 'M', 'B']"
   ]
  },
  {
   "cell_type": "markdown",
   "id": "e8a476fa",
   "metadata": {},
   "source": [
    "#### Data Analysis"
   ]
  },
  {
   "cell_type": "markdown",
   "id": "d915c546",
   "metadata": {},
   "source": [
    "For the analysis we apply the covariance and correlation to be able to observe the relation that exists between the variables x with the y being for the correlation 0 the worst relation and 1 the best relation.\n",
    "* The number columns can be applied for the analysis.\n",
    "* The categories columns (texts) need be assigned a number for get the correlation."
   ]
  },
  {
   "cell_type": "code",
   "execution_count": 601,
   "id": "97fed19d",
   "metadata": {},
   "outputs": [],
   "source": [
    "stars_analysis = stars.copy()"
   ]
  },
  {
   "cell_type": "code",
   "execution_count": 602,
   "id": "5e6a1e86",
   "metadata": {},
   "outputs": [
    {
     "data": {
      "text/html": [
       "<div>\n",
       "<style scoped>\n",
       "    .dataframe tbody tr th:only-of-type {\n",
       "        vertical-align: middle;\n",
       "    }\n",
       "\n",
       "    .dataframe tbody tr th {\n",
       "        vertical-align: top;\n",
       "    }\n",
       "\n",
       "    .dataframe thead th {\n",
       "        text-align: right;\n",
       "    }\n",
       "</style>\n",
       "<table border=\"1\" class=\"dataframe\">\n",
       "  <thead>\n",
       "    <tr style=\"text-align: right;\">\n",
       "      <th></th>\n",
       "      <th>Temperature</th>\n",
       "      <th>L</th>\n",
       "      <th>R</th>\n",
       "      <th>A_M</th>\n",
       "      <th>Color</th>\n",
       "      <th>Spectral_Class</th>\n",
       "      <th>Type</th>\n",
       "      <th>Number_Color</th>\n",
       "      <th>Numbr_Spectral_Class</th>\n",
       "    </tr>\n",
       "  </thead>\n",
       "  <tbody>\n",
       "    <tr>\n",
       "      <th>0</th>\n",
       "      <td>3453</td>\n",
       "      <td>0.000621</td>\n",
       "      <td>0.07730</td>\n",
       "      <td>17.08</td>\n",
       "      <td>Red</td>\n",
       "      <td>M</td>\n",
       "      <td>0</td>\n",
       "      <td>1</td>\n",
       "      <td>5</td>\n",
       "    </tr>\n",
       "    <tr>\n",
       "      <th>1</th>\n",
       "      <td>12098</td>\n",
       "      <td>689.000000</td>\n",
       "      <td>7.01000</td>\n",
       "      <td>0.02</td>\n",
       "      <td>Blue-white</td>\n",
       "      <td>A</td>\n",
       "      <td>3</td>\n",
       "      <td>12</td>\n",
       "      <td>4</td>\n",
       "    </tr>\n",
       "    <tr>\n",
       "      <th>2</th>\n",
       "      <td>2731</td>\n",
       "      <td>0.000437</td>\n",
       "      <td>0.08560</td>\n",
       "      <td>18.09</td>\n",
       "      <td>Red</td>\n",
       "      <td>M</td>\n",
       "      <td>0</td>\n",
       "      <td>1</td>\n",
       "      <td>5</td>\n",
       "    </tr>\n",
       "    <tr>\n",
       "      <th>3</th>\n",
       "      <td>37800</td>\n",
       "      <td>202900.000000</td>\n",
       "      <td>6.86000</td>\n",
       "      <td>-4.56</td>\n",
       "      <td>Blue</td>\n",
       "      <td>O</td>\n",
       "      <td>3</td>\n",
       "      <td>4</td>\n",
       "      <td>0</td>\n",
       "    </tr>\n",
       "    <tr>\n",
       "      <th>4</th>\n",
       "      <td>8570</td>\n",
       "      <td>0.000810</td>\n",
       "      <td>0.00970</td>\n",
       "      <td>14.20</td>\n",
       "      <td>Blue white</td>\n",
       "      <td>A</td>\n",
       "      <td>2</td>\n",
       "      <td>11</td>\n",
       "      <td>4</td>\n",
       "    </tr>\n",
       "    <tr>\n",
       "      <th>...</th>\n",
       "      <td>...</td>\n",
       "      <td>...</td>\n",
       "      <td>...</td>\n",
       "      <td>...</td>\n",
       "      <td>...</td>\n",
       "      <td>...</td>\n",
       "      <td>...</td>\n",
       "      <td>...</td>\n",
       "      <td>...</td>\n",
       "    </tr>\n",
       "    <tr>\n",
       "      <th>195</th>\n",
       "      <td>13420</td>\n",
       "      <td>0.000590</td>\n",
       "      <td>0.00981</td>\n",
       "      <td>13.67</td>\n",
       "      <td>Blue White</td>\n",
       "      <td>B</td>\n",
       "      <td>2</td>\n",
       "      <td>11</td>\n",
       "      <td>6</td>\n",
       "    </tr>\n",
       "    <tr>\n",
       "      <th>196</th>\n",
       "      <td>19860</td>\n",
       "      <td>0.001100</td>\n",
       "      <td>0.01310</td>\n",
       "      <td>11.34</td>\n",
       "      <td>Blue</td>\n",
       "      <td>B</td>\n",
       "      <td>2</td>\n",
       "      <td>4</td>\n",
       "      <td>6</td>\n",
       "    </tr>\n",
       "    <tr>\n",
       "      <th>197</th>\n",
       "      <td>13023</td>\n",
       "      <td>998.000000</td>\n",
       "      <td>6.21000</td>\n",
       "      <td>-1.38</td>\n",
       "      <td>Blue-white</td>\n",
       "      <td>A</td>\n",
       "      <td>3</td>\n",
       "      <td>12</td>\n",
       "      <td>4</td>\n",
       "    </tr>\n",
       "    <tr>\n",
       "      <th>198</th>\n",
       "      <td>39000</td>\n",
       "      <td>204000.000000</td>\n",
       "      <td>10.60000</td>\n",
       "      <td>-4.70</td>\n",
       "      <td>Blue</td>\n",
       "      <td>O</td>\n",
       "      <td>3</td>\n",
       "      <td>4</td>\n",
       "      <td>0</td>\n",
       "    </tr>\n",
       "    <tr>\n",
       "      <th>199</th>\n",
       "      <td>12010</td>\n",
       "      <td>0.000780</td>\n",
       "      <td>0.00920</td>\n",
       "      <td>12.13</td>\n",
       "      <td>Blue White</td>\n",
       "      <td>B</td>\n",
       "      <td>2</td>\n",
       "      <td>11</td>\n",
       "      <td>6</td>\n",
       "    </tr>\n",
       "  </tbody>\n",
       "</table>\n",
       "<p>200 rows × 9 columns</p>\n",
       "</div>"
      ],
      "text/plain": [
       "     Temperature              L         R    A_M       Color Spectral_Class  \\\n",
       "0           3453       0.000621   0.07730  17.08         Red              M   \n",
       "1          12098     689.000000   7.01000   0.02  Blue-white              A   \n",
       "2           2731       0.000437   0.08560  18.09         Red              M   \n",
       "3          37800  202900.000000   6.86000  -4.56        Blue              O   \n",
       "4           8570       0.000810   0.00970  14.20  Blue white              A   \n",
       "..           ...            ...       ...    ...         ...            ...   \n",
       "195        13420       0.000590   0.00981  13.67  Blue White              B   \n",
       "196        19860       0.001100   0.01310  11.34        Blue              B   \n",
       "197        13023     998.000000   6.21000  -1.38  Blue-white              A   \n",
       "198        39000  204000.000000  10.60000  -4.70        Blue              O   \n",
       "199        12010       0.000780   0.00920  12.13  Blue White              B   \n",
       "\n",
       "     Type  Number_Color  Numbr_Spectral_Class  \n",
       "0       0             1                     5  \n",
       "1       3            12                     4  \n",
       "2       0             1                     5  \n",
       "3       3             4                     0  \n",
       "4       2            11                     4  \n",
       "..    ...           ...                   ...  \n",
       "195     2            11                     6  \n",
       "196     2             4                     6  \n",
       "197     3            12                     4  \n",
       "198     3             4                     0  \n",
       "199     2            11                     6  \n",
       "\n",
       "[200 rows x 9 columns]"
      ]
     },
     "execution_count": 602,
     "metadata": {},
     "output_type": "execute_result"
    }
   ],
   "source": [
    "stars_analysis['Number_Color']=ListCagetorietoNumber(stars_analysis.Color,colors)\n",
    "stars_analysis['Numbr_Spectral_Class']=ListCagetorietoNumber(stars_analysis.Spectral_Class,spectral_classes)\n",
    "stars_analysis"
   ]
  },
  {
   "cell_type": "markdown",
   "id": "6b61c4f9",
   "metadata": {},
   "source": [
    "#### Covariance of the variables"
   ]
  },
  {
   "cell_type": "code",
   "execution_count": 603,
   "id": "4b1572b9",
   "metadata": {},
   "outputs": [
    {
     "data": {
      "text/html": [
       "<div>\n",
       "<style scoped>\n",
       "    .dataframe tbody tr th:only-of-type {\n",
       "        vertical-align: middle;\n",
       "    }\n",
       "\n",
       "    .dataframe tbody tr th {\n",
       "        vertical-align: top;\n",
       "    }\n",
       "\n",
       "    .dataframe thead th {\n",
       "        text-align: right;\n",
       "    }\n",
       "</style>\n",
       "<table border=\"1\" class=\"dataframe\">\n",
       "  <thead>\n",
       "    <tr style=\"text-align: right;\">\n",
       "      <th></th>\n",
       "      <th>Type</th>\n",
       "    </tr>\n",
       "  </thead>\n",
       "  <tbody>\n",
       "    <tr>\n",
       "      <th>Temperature</th>\n",
       "      <td>6428.207940</td>\n",
       "    </tr>\n",
       "    <tr>\n",
       "      <th>L</th>\n",
       "      <td>210878.875596</td>\n",
       "    </tr>\n",
       "    <tr>\n",
       "      <th>R</th>\n",
       "      <td>590.250620</td>\n",
       "    </tr>\n",
       "    <tr>\n",
       "      <th>A_M</th>\n",
       "      <td>-16.944131</td>\n",
       "    </tr>\n",
       "    <tr>\n",
       "      <th>Type</th>\n",
       "      <td>2.873467</td>\n",
       "    </tr>\n",
       "    <tr>\n",
       "      <th>Number_Color</th>\n",
       "      <td>1.534271</td>\n",
       "    </tr>\n",
       "    <tr>\n",
       "      <th>Numbr_Spectral_Class</th>\n",
       "      <td>-1.421407</td>\n",
       "    </tr>\n",
       "  </tbody>\n",
       "</table>\n",
       "</div>"
      ],
      "text/plain": [
       "                               Type\n",
       "Temperature             6428.207940\n",
       "L                     210878.875596\n",
       "R                        590.250620\n",
       "A_M                      -16.944131\n",
       "Type                       2.873467\n",
       "Number_Color               1.534271\n",
       "Numbr_Spectral_Class      -1.421407"
      ]
     },
     "execution_count": 603,
     "metadata": {},
     "output_type": "execute_result"
    }
   ],
   "source": [
    "cov_mat = stars_analysis.cov()\n",
    "cov_mat= cov_mat.drop(['Temperature', 'L', 'R','A_M','Number_Color','Numbr_Spectral_Class'], axis=1)\n",
    "cov_mat"
   ]
  },
  {
   "cell_type": "markdown",
   "id": "dbc4a8d6",
   "metadata": {},
   "source": [
    "#### Correlation between the variables"
   ]
  },
  {
   "cell_type": "code",
   "execution_count": 604,
   "id": "42fea997",
   "metadata": {},
   "outputs": [
    {
     "data": {
      "text/html": [
       "<div>\n",
       "<style scoped>\n",
       "    .dataframe tbody tr th:only-of-type {\n",
       "        vertical-align: middle;\n",
       "    }\n",
       "\n",
       "    .dataframe tbody tr th {\n",
       "        vertical-align: top;\n",
       "    }\n",
       "\n",
       "    .dataframe thead th {\n",
       "        text-align: right;\n",
       "    }\n",
       "</style>\n",
       "<table border=\"1\" class=\"dataframe\">\n",
       "  <thead>\n",
       "    <tr style=\"text-align: right;\">\n",
       "      <th></th>\n",
       "      <th>Type</th>\n",
       "    </tr>\n",
       "  </thead>\n",
       "  <tbody>\n",
       "    <tr>\n",
       "      <th>Temperature</th>\n",
       "      <td>0.556591</td>\n",
       "    </tr>\n",
       "    <tr>\n",
       "      <th>L</th>\n",
       "      <td>0.846269</td>\n",
       "    </tr>\n",
       "    <tr>\n",
       "      <th>R</th>\n",
       "      <td>0.809410</td>\n",
       "    </tr>\n",
       "    <tr>\n",
       "      <th>A_M</th>\n",
       "      <td>-0.951591</td>\n",
       "    </tr>\n",
       "    <tr>\n",
       "      <th>Type</th>\n",
       "      <td>1.000000</td>\n",
       "    </tr>\n",
       "    <tr>\n",
       "      <th>Number_Color</th>\n",
       "      <td>0.319005</td>\n",
       "    </tr>\n",
       "    <tr>\n",
       "      <th>Numbr_Spectral_Class</th>\n",
       "      <td>-0.333179</td>\n",
       "    </tr>\n",
       "  </tbody>\n",
       "</table>\n",
       "</div>"
      ],
      "text/plain": [
       "                          Type\n",
       "Temperature           0.556591\n",
       "L                     0.846269\n",
       "R                     0.809410\n",
       "A_M                  -0.951591\n",
       "Type                  1.000000\n",
       "Number_Color          0.319005\n",
       "Numbr_Spectral_Class -0.333179"
      ]
     },
     "execution_count": 604,
     "metadata": {},
     "output_type": "execute_result"
    }
   ],
   "source": [
    "corr_mat= stars_analysis.corr(method='spearman')\n",
    "corr_mat=corr_mat.drop(['Temperature', 'L', 'R','A_M','Number_Color','Numbr_Spectral_Class'], axis=1)\n",
    "corr_mat"
   ]
  },
  {
   "cell_type": "markdown",
   "id": "b4a65994",
   "metadata": {},
   "source": [
    "#### Plots of correlations"
   ]
  },
  {
   "cell_type": "code",
   "execution_count": 605,
   "id": "f522cf10",
   "metadata": {},
   "outputs": [
    {
     "data": {
      "text/plain": [
       "Text(0, 0.5, 'Temperature')"
      ]
     },
     "execution_count": 605,
     "metadata": {},
     "output_type": "execute_result"
    },
    {
     "data": {
      "image/png": "[encoded data removed]",
      "text/plain": [
       "<Figure size 432x288 with 1 Axes>"
      ]
     },
     "metadata": {
      "needs_background": "light"
     },
     "output_type": "display_data"
    }
   ],
   "source": [
    "plt.scatter(stars_analysis['Type'],stars_analysis['Temperature'])\n",
    "plt.title('Temperature y Type')\n",
    "plt.xlabel(\"Types\")\n",
    "plt.ylabel(\"Temperature\")"
   ]
  },
  {
   "cell_type": "code",
   "execution_count": 606,
   "id": "3e0082b8",
   "metadata": {},
   "outputs": [
    {
     "data": {
      "text/plain": [
       "Text(0, 0.5, 'L')"
      ]
     },
     "execution_count": 606,
     "metadata": {},
     "output_type": "execute_result"
    },
    {
     "data": {
      "image/png": "[encoded data removed]",
      "text/plain": [
       "<Figure size 432x288 with 1 Axes>"
      ]
     },
     "metadata": {
      "needs_background": "light"
     },
     "output_type": "display_data"
    }
   ],
   "source": [
    "#Graficas de correlaciones\n",
    "plt.scatter(stars_analysis['Type'],stars_analysis['L'])\n",
    "plt.title('L y Type')\n",
    "plt.xlabel(\"Types\")\n",
    "plt.ylabel(\"L\")"
   ]
  },
  {
   "cell_type": "code",
   "execution_count": 607,
   "id": "a3aa08ea",
   "metadata": {},
   "outputs": [
    {
     "data": {
      "text/plain": [
       "Text(0, 0.5, 'R')"
      ]
     },
     "execution_count": 607,
     "metadata": {},
     "output_type": "execute_result"
    },
    {
     "data": {
      "image/png": "[encoded data removed]",
      "text/plain": [
       "<Figure size 432x288 with 1 Axes>"
      ]
     },
     "metadata": {
      "needs_background": "light"
     },
     "output_type": "display_data"
    }
   ],
   "source": [
    "#Graficas de correlaciones\n",
    "plt.scatter(stars_analysis['Type'],stars['R'])\n",
    "plt.title('R y Type')\n",
    "plt.xlabel(\"Types\")\n",
    "plt.ylabel(\"R\")"
   ]
  },
  {
   "cell_type": "code",
   "execution_count": 608,
   "id": "d3e26a49",
   "metadata": {},
   "outputs": [
    {
     "data": {
      "text/plain": [
       "Text(0, 0.5, 'A_M')"
      ]
     },
     "execution_count": 608,
     "metadata": {},
     "output_type": "execute_result"
    },
    {
     "data": {
      "image/png": "[encoded data removed]",
      "text/plain": [
       "<Figure size 432x288 with 1 Axes>"
      ]
     },
     "metadata": {
      "needs_background": "light"
     },
     "output_type": "display_data"
    }
   ],
   "source": [
    "#Graficas de correlaciones\n",
    "plt.scatter(stars_analysis['Type'],stars['A_M'])\n",
    "plt.title('A_M y Type')\n",
    "plt.xlabel(\"Types\")\n",
    "plt.ylabel(\"A_M\")"
   ]
  },
  {
   "cell_type": "code",
   "execution_count": 609,
   "id": "425e1187",
   "metadata": {},
   "outputs": [
    {
     "data": {
      "text/plain": [
       "Text(0, 0.5, 'Numbr_Spectral_Class')"
      ]
     },
     "execution_count": 609,
     "metadata": {},
     "output_type": "execute_result"
    },
    {
     "data": {
      "image/png": "[encoded data removed]",
      "text/plain": [
       "<Figure size 432x288 with 1 Axes>"
      ]
     },
     "metadata": {
      "needs_background": "light"
     },
     "output_type": "display_data"
    }
   ],
   "source": [
    "#Graficas de correlaciones\n",
    "plt.scatter(stars_analysis['Type'],stars_analysis['Numbr_Spectral_Class'])\n",
    "plt.title('Numbr_Spectral_Class y Type')\n",
    "plt.xlabel(\"Types\")\n",
    "plt.ylabel(\"Numbr_Spectral_Class\")"
   ]
  },
  {
   "cell_type": "code",
   "execution_count": 610,
   "id": "cf82c0be",
   "metadata": {},
   "outputs": [
    {
     "data": {
      "text/plain": [
       "Text(0, 0.5, 'Number_Color')"
      ]
     },
     "execution_count": 610,
     "metadata": {},
     "output_type": "execute_result"
    },
    {
     "data": {
      "image/png": "[encoded data removed]",
      "text/plain": [
       "<Figure size 432x288 with 1 Axes>"
      ]
     },
     "metadata": {
      "needs_background": "light"
     },
     "output_type": "display_data"
    }
   ],
   "source": [
    "#Graficas de correlaciones\n",
    "plt.scatter(stars_analysis['Type'],stars_analysis['Number_Color'])\n",
    "plt.title('Number_Color y Type')\n",
    "plt.xlabel(\"Types\")\n",
    "plt.ylabel(\"Number_Color\")"
   ]
  },
  {
   "cell_type": "markdown",
   "id": "1894ebcd",
   "metadata": {},
   "source": [
    "## Aplicattion of the Neuronal Network"
   ]
  },
  {
   "cell_type": "markdown",
   "id": "0c3990c0",
   "metadata": {},
   "source": [
    "stars_inputs are the variable x and types is the variable y.\n",
    "Then we select aleatory indexs of the dataset in order to assign differents values for the training and different values for the test. (Its guarantied that a row chosen by his index only can be part of the training or the test part).\n",
    "We separate 160 rows for the training part, if we get 200 rows in a dataset, 40 rows are for the test part."
   ]
  },
  {
   "cell_type": "code",
   "execution_count": 611,
   "id": "ef6e4b9b",
   "metadata": {},
   "outputs": [
    {
     "data": {
      "text/html": [
       "<div>\n",
       "<style scoped>\n",
       "    .dataframe tbody tr th:only-of-type {\n",
       "        vertical-align: middle;\n",
       "    }\n",
       "\n",
       "    .dataframe tbody tr th {\n",
       "        vertical-align: top;\n",
       "    }\n",
       "\n",
       "    .dataframe thead th {\n",
       "        text-align: right;\n",
       "    }\n",
       "</style>\n",
       "<table border=\"1\" class=\"dataframe\">\n",
       "  <thead>\n",
       "    <tr style=\"text-align: right;\">\n",
       "      <th></th>\n",
       "      <th>Temperature</th>\n",
       "      <th>L</th>\n",
       "      <th>R</th>\n",
       "      <th>A_M</th>\n",
       "      <th>whitish</th>\n",
       "      <th>red</th>\n",
       "      <th>pale yellow orange</th>\n",
       "      <th>white-yellow</th>\n",
       "      <th>blue</th>\n",
       "      <th>yellow-white</th>\n",
       "      <th>...</th>\n",
       "      <th>white</th>\n",
       "      <th>blue white</th>\n",
       "      <th>blue-white</th>\n",
       "      <th>O</th>\n",
       "      <th>F</th>\n",
       "      <th>G</th>\n",
       "      <th>K</th>\n",
       "      <th>A</th>\n",
       "      <th>M</th>\n",
       "      <th>B</th>\n",
       "    </tr>\n",
       "  </thead>\n",
       "  <tbody>\n",
       "    <tr>\n",
       "      <th>0</th>\n",
       "      <td>3453</td>\n",
       "      <td>0.000621</td>\n",
       "      <td>0.07730</td>\n",
       "      <td>17.08</td>\n",
       "      <td>0</td>\n",
       "      <td>1</td>\n",
       "      <td>0</td>\n",
       "      <td>0</td>\n",
       "      <td>0</td>\n",
       "      <td>0</td>\n",
       "      <td>...</td>\n",
       "      <td>0</td>\n",
       "      <td>0</td>\n",
       "      <td>0</td>\n",
       "      <td>0</td>\n",
       "      <td>0</td>\n",
       "      <td>0</td>\n",
       "      <td>0</td>\n",
       "      <td>0</td>\n",
       "      <td>1</td>\n",
       "      <td>0</td>\n",
       "    </tr>\n",
       "    <tr>\n",
       "      <th>1</th>\n",
       "      <td>12098</td>\n",
       "      <td>689.000000</td>\n",
       "      <td>7.01000</td>\n",
       "      <td>0.02</td>\n",
       "      <td>0</td>\n",
       "      <td>0</td>\n",
       "      <td>0</td>\n",
       "      <td>0</td>\n",
       "      <td>0</td>\n",
       "      <td>0</td>\n",
       "      <td>...</td>\n",
       "      <td>0</td>\n",
       "      <td>0</td>\n",
       "      <td>1</td>\n",
       "      <td>0</td>\n",
       "      <td>0</td>\n",
       "      <td>0</td>\n",
       "      <td>0</td>\n",
       "      <td>1</td>\n",
       "      <td>0</td>\n",
       "      <td>0</td>\n",
       "    </tr>\n",
       "    <tr>\n",
       "      <th>2</th>\n",
       "      <td>2731</td>\n",
       "      <td>0.000437</td>\n",
       "      <td>0.08560</td>\n",
       "      <td>18.09</td>\n",
       "      <td>0</td>\n",
       "      <td>1</td>\n",
       "      <td>0</td>\n",
       "      <td>0</td>\n",
       "      <td>0</td>\n",
       "      <td>0</td>\n",
       "      <td>...</td>\n",
       "      <td>0</td>\n",
       "      <td>0</td>\n",
       "      <td>0</td>\n",
       "      <td>0</td>\n",
       "      <td>0</td>\n",
       "      <td>0</td>\n",
       "      <td>0</td>\n",
       "      <td>0</td>\n",
       "      <td>1</td>\n",
       "      <td>0</td>\n",
       "    </tr>\n",
       "    <tr>\n",
       "      <th>3</th>\n",
       "      <td>37800</td>\n",
       "      <td>202900.000000</td>\n",
       "      <td>6.86000</td>\n",
       "      <td>-4.56</td>\n",
       "      <td>0</td>\n",
       "      <td>0</td>\n",
       "      <td>0</td>\n",
       "      <td>0</td>\n",
       "      <td>1</td>\n",
       "      <td>0</td>\n",
       "      <td>...</td>\n",
       "      <td>0</td>\n",
       "      <td>0</td>\n",
       "      <td>0</td>\n",
       "      <td>1</td>\n",
       "      <td>0</td>\n",
       "      <td>0</td>\n",
       "      <td>0</td>\n",
       "      <td>0</td>\n",
       "      <td>0</td>\n",
       "      <td>0</td>\n",
       "    </tr>\n",
       "    <tr>\n",
       "      <th>4</th>\n",
       "      <td>8570</td>\n",
       "      <td>0.000810</td>\n",
       "      <td>0.00970</td>\n",
       "      <td>14.20</td>\n",
       "      <td>0</td>\n",
       "      <td>0</td>\n",
       "      <td>0</td>\n",
       "      <td>0</td>\n",
       "      <td>0</td>\n",
       "      <td>0</td>\n",
       "      <td>...</td>\n",
       "      <td>0</td>\n",
       "      <td>1</td>\n",
       "      <td>0</td>\n",
       "      <td>0</td>\n",
       "      <td>0</td>\n",
       "      <td>0</td>\n",
       "      <td>0</td>\n",
       "      <td>1</td>\n",
       "      <td>0</td>\n",
       "      <td>0</td>\n",
       "    </tr>\n",
       "    <tr>\n",
       "      <th>...</th>\n",
       "      <td>...</td>\n",
       "      <td>...</td>\n",
       "      <td>...</td>\n",
       "      <td>...</td>\n",
       "      <td>...</td>\n",
       "      <td>...</td>\n",
       "      <td>...</td>\n",
       "      <td>...</td>\n",
       "      <td>...</td>\n",
       "      <td>...</td>\n",
       "      <td>...</td>\n",
       "      <td>...</td>\n",
       "      <td>...</td>\n",
       "      <td>...</td>\n",
       "      <td>...</td>\n",
       "      <td>...</td>\n",
       "      <td>...</td>\n",
       "      <td>...</td>\n",
       "      <td>...</td>\n",
       "      <td>...</td>\n",
       "      <td>...</td>\n",
       "    </tr>\n",
       "    <tr>\n",
       "      <th>195</th>\n",
       "      <td>13420</td>\n",
       "      <td>0.000590</td>\n",
       "      <td>0.00981</td>\n",
       "      <td>13.67</td>\n",
       "      <td>0</td>\n",
       "      <td>0</td>\n",
       "      <td>0</td>\n",
       "      <td>0</td>\n",
       "      <td>0</td>\n",
       "      <td>0</td>\n",
       "      <td>...</td>\n",
       "      <td>0</td>\n",
       "      <td>1</td>\n",
       "      <td>0</td>\n",
       "      <td>0</td>\n",
       "      <td>0</td>\n",
       "      <td>0</td>\n",
       "      <td>0</td>\n",
       "      <td>0</td>\n",
       "      <td>0</td>\n",
       "      <td>1</td>\n",
       "    </tr>\n",
       "    <tr>\n",
       "      <th>196</th>\n",
       "      <td>19860</td>\n",
       "      <td>0.001100</td>\n",
       "      <td>0.01310</td>\n",
       "      <td>11.34</td>\n",
       "      <td>0</td>\n",
       "      <td>0</td>\n",
       "      <td>0</td>\n",
       "      <td>0</td>\n",
       "      <td>1</td>\n",
       "      <td>0</td>\n",
       "      <td>...</td>\n",
       "      <td>0</td>\n",
       "      <td>0</td>\n",
       "      <td>0</td>\n",
       "      <td>0</td>\n",
       "      <td>0</td>\n",
       "      <td>0</td>\n",
       "      <td>0</td>\n",
       "      <td>0</td>\n",
       "      <td>0</td>\n",
       "      <td>1</td>\n",
       "    </tr>\n",
       "    <tr>\n",
       "      <th>197</th>\n",
       "      <td>13023</td>\n",
       "      <td>998.000000</td>\n",
       "      <td>6.21000</td>\n",
       "      <td>-1.38</td>\n",
       "      <td>0</td>\n",
       "      <td>0</td>\n",
       "      <td>0</td>\n",
       "      <td>0</td>\n",
       "      <td>0</td>\n",
       "      <td>0</td>\n",
       "      <td>...</td>\n",
       "      <td>0</td>\n",
       "      <td>0</td>\n",
       "      <td>1</td>\n",
       "      <td>0</td>\n",
       "      <td>0</td>\n",
       "      <td>0</td>\n",
       "      <td>0</td>\n",
       "      <td>1</td>\n",
       "      <td>0</td>\n",
       "      <td>0</td>\n",
       "    </tr>\n",
       "    <tr>\n",
       "      <th>198</th>\n",
       "      <td>39000</td>\n",
       "      <td>204000.000000</td>\n",
       "      <td>10.60000</td>\n",
       "      <td>-4.70</td>\n",
       "      <td>0</td>\n",
       "      <td>0</td>\n",
       "      <td>0</td>\n",
       "      <td>0</td>\n",
       "      <td>1</td>\n",
       "      <td>0</td>\n",
       "      <td>...</td>\n",
       "      <td>0</td>\n",
       "      <td>0</td>\n",
       "      <td>0</td>\n",
       "      <td>1</td>\n",
       "      <td>0</td>\n",
       "      <td>0</td>\n",
       "      <td>0</td>\n",
       "      <td>0</td>\n",
       "      <td>0</td>\n",
       "      <td>0</td>\n",
       "    </tr>\n",
       "    <tr>\n",
       "      <th>199</th>\n",
       "      <td>12010</td>\n",
       "      <td>0.000780</td>\n",
       "      <td>0.00920</td>\n",
       "      <td>12.13</td>\n",
       "      <td>0</td>\n",
       "      <td>0</td>\n",
       "      <td>0</td>\n",
       "      <td>0</td>\n",
       "      <td>0</td>\n",
       "      <td>0</td>\n",
       "      <td>...</td>\n",
       "      <td>0</td>\n",
       "      <td>1</td>\n",
       "      <td>0</td>\n",
       "      <td>0</td>\n",
       "      <td>0</td>\n",
       "      <td>0</td>\n",
       "      <td>0</td>\n",
       "      <td>0</td>\n",
       "      <td>0</td>\n",
       "      <td>1</td>\n",
       "    </tr>\n",
       "  </tbody>\n",
       "</table>\n",
       "<p>200 rows × 24 columns</p>\n",
       "</div>"
      ],
      "text/plain": [
       "     Temperature              L         R    A_M  whitish  red  \\\n",
       "0           3453       0.000621   0.07730  17.08        0    1   \n",
       "1          12098     689.000000   7.01000   0.02        0    0   \n",
       "2           2731       0.000437   0.08560  18.09        0    1   \n",
       "3          37800  202900.000000   6.86000  -4.56        0    0   \n",
       "4           8570       0.000810   0.00970  14.20        0    0   \n",
       "..           ...            ...       ...    ...      ...  ...   \n",
       "195        13420       0.000590   0.00981  13.67        0    0   \n",
       "196        19860       0.001100   0.01310  11.34        0    0   \n",
       "197        13023     998.000000   6.21000  -1.38        0    0   \n",
       "198        39000  204000.000000  10.60000  -4.70        0    0   \n",
       "199        12010       0.000780   0.00920  12.13        0    0   \n",
       "\n",
       "     pale yellow orange  white-yellow  blue  yellow-white  ...  white  \\\n",
       "0                     0             0     0             0  ...      0   \n",
       "1                     0             0     0             0  ...      0   \n",
       "2                     0             0     0             0  ...      0   \n",
       "3                     0             0     1             0  ...      0   \n",
       "4                     0             0     0             0  ...      0   \n",
       "..                  ...           ...   ...           ...  ...    ...   \n",
       "195                   0             0     0             0  ...      0   \n",
       "196                   0             0     1             0  ...      0   \n",
       "197                   0             0     0             0  ...      0   \n",
       "198                   0             0     1             0  ...      0   \n",
       "199                   0             0     0             0  ...      0   \n",
       "\n",
       "     blue white  blue-white  O  F  G  K  A  M  B  \n",
       "0             0           0  0  0  0  0  0  1  0  \n",
       "1             0           1  0  0  0  0  1  0  0  \n",
       "2             0           0  0  0  0  0  0  1  0  \n",
       "3             0           0  1  0  0  0  0  0  0  \n",
       "4             1           0  0  0  0  0  1  0  0  \n",
       "..          ...         ... .. .. .. .. .. .. ..  \n",
       "195           1           0  0  0  0  0  0  0  1  \n",
       "196           0           0  0  0  0  0  0  0  1  \n",
       "197           0           1  0  0  0  0  1  0  0  \n",
       "198           0           0  1  0  0  0  0  0  0  \n",
       "199           1           0  0  0  0  0  0  0  1  \n",
       "\n",
       "[200 rows x 24 columns]"
      ]
     },
     "execution_count": 611,
     "metadata": {},
     "output_type": "execute_result"
    }
   ],
   "source": [
    "types = stars.iloc[:,-1]\n",
    "stars_inputs = get_inputs(stars,colors, spectral_classes)\n",
    "stars_inputs"
   ]
  },
  {
   "cell_type": "code",
   "execution_count": 612,
   "id": "3a4c2fea",
   "metadata": {},
   "outputs": [],
   "source": [
    "index_list = rand_index(stars.shape[0])\n",
    "x_train, y_train, x_test, y_test = select_variables(stars_inputs,types,index_list, 160)"
   ]
  },
  {
   "cell_type": "markdown",
   "id": "5d9eef49",
   "metadata": {},
   "source": [
    "In this part we build a neuronal network that have caps with dimentions ,number of neurones and function of activation, this camps might be variate for the differents results.\n",
    "The compile have a optimizer of neurones, a function of loss and the metrics that can be used."
   ]
  },
  {
   "cell_type": "markdown",
   "id": "4d0bad27",
   "metadata": {},
   "source": [
    "We also prove different activation functions and we got the results:\n",
    "    \n",
    "bad activation models : \n",
    "\n",
    "softsign, tanh, sigmoid, exponential\n",
    "    \n",
    "good activation models :\n",
    "\n",
    "selu, relu, softplus, softmax, elu"
   ]
  },
  {
   "cell_type": "markdown",
   "id": "dfb911bd",
   "metadata": {},
   "source": [
    "The first layer have the input layer and one hidden layer, the input layer must be have the same numbers of inputs for the columns of variable x, the number of neurones of hidden layers can be variate.\n",
    "\n",
    "The last layer or output layer is an array of 0 and 1 that represent the type of output.\n",
    "\n",
    "Types :\n",
    "\n",
    "[0,1,2,3,4,5]\n",
    "\n",
    "Domains for each type: \n",
    "\n",
    "[({0,1},{0,1},{0,1},{0,1},{0,1},{0,1}]"
   ]
  },
  {
   "cell_type": "code",
   "execution_count": 613,
   "id": "4328d140",
   "metadata": {},
   "outputs": [
    {
     "data": {
      "text/plain": [
       "((160, 24), (160,), (40, 24), (40,))"
      ]
     },
     "execution_count": 613,
     "metadata": {},
     "output_type": "execute_result"
    }
   ],
   "source": [
    "x_train.shape, y_train.shape, x_test.shape, y_test.shape"
   ]
  },
  {
   "cell_type": "code",
   "execution_count": 617,
   "id": "f471c4ea",
   "metadata": {
    "scrolled": true
   },
   "outputs": [],
   "source": [
    "model = Sequential()\n",
    "model.add(Dense(64, input_dim=24, activation='elu'))\n",
    "model.add(Dense(6, activation='softmax'))\n",
    "model.compile(optimizer='adam',loss='categorical_crossentropy',metrics=['accuracy'])\n"
   ]
  },
  {
   "cell_type": "code",
   "execution_count": 618,
   "id": "ed31eda0",
   "metadata": {},
   "outputs": [],
   "source": [
    "#target_training\n",
    "y = []\n",
    "ls = []\n",
    "y=IntegerEncode2(y_train)\n",
    "target_test=IntegerEncode2(y_test)"
   ]
  },
  {
   "cell_type": "code",
   "execution_count": 619,
   "id": "4ed93396",
   "metadata": {},
   "outputs": [
    {
     "name": "stdout",
     "output_type": "stream",
     "text": [
      "Epoch 1/200\n",
      "3/3 [==============================] - 1s 134ms/step - loss: 22277.2129 - accuracy: 0.2812 - val_loss: 16864.6465 - val_accuracy: 0.2000\n",
      "Epoch 2/200\n",
      "3/3 [==============================] - 0s 25ms/step - loss: 19657.7852 - accuracy: 0.2562 - val_loss: 14839.0020 - val_accuracy: 0.2500\n",
      "Epoch 3/200\n",
      "3/3 [==============================] - 0s 30ms/step - loss: 17212.9746 - accuracy: 0.2875 - val_loss: 12966.9980 - val_accuracy: 0.2250\n",
      "Epoch 4/200\n",
      "3/3 [==============================] - 0s 27ms/step - loss: 15156.9893 - accuracy: 0.2375 - val_loss: 11152.6797 - val_accuracy: 0.3000\n",
      "Epoch 5/200\n",
      "3/3 [==============================] - 0s 36ms/step - loss: 12891.7363 - accuracy: 0.2688 - val_loss: 9353.0830 - val_accuracy: 0.2500\n",
      "Epoch 6/200\n",
      "3/3 [==============================] - 0s 29ms/step - loss: 10705.2510 - accuracy: 0.2937 - val_loss: 7546.0889 - val_accuracy: 0.2250\n",
      "Epoch 7/200\n",
      "3/3 [==============================] - 0s 26ms/step - loss: 8430.0488 - accuracy: 0.2562 - val_loss: 5816.8428 - val_accuracy: 0.2000\n",
      "Epoch 8/200\n",
      "3/3 [==============================] - 0s 35ms/step - loss: 6562.5220 - accuracy: 0.1500 - val_loss: 5164.3379 - val_accuracy: 0.0250\n",
      "Epoch 9/200\n",
      "3/3 [==============================] - 0s 23ms/step - loss: 5442.7065 - accuracy: 0.0625 - val_loss: 3699.1577 - val_accuracy: 0.0250\n",
      "Epoch 10/200\n",
      "3/3 [==============================] - 0s 20ms/step - loss: 3861.9829 - accuracy: 0.1375 - val_loss: 2148.1851 - val_accuracy: 0.1750\n",
      "Epoch 11/200\n",
      "3/3 [==============================] - 0s 16ms/step - loss: 2337.3308 - accuracy: 0.1750 - val_loss: 876.1992 - val_accuracy: 0.1750\n",
      "Epoch 12/200\n",
      "3/3 [==============================] - 0s 18ms/step - loss: 1038.1221 - accuracy: 0.1750 - val_loss: 1115.7812 - val_accuracy: 0.3750\n",
      "Epoch 13/200\n",
      "3/3 [==============================] - 0s 27ms/step - loss: 1055.3787 - accuracy: 0.3500 - val_loss: 1804.6023 - val_accuracy: 0.4250\n",
      "Epoch 14/200\n",
      "3/3 [==============================] - 0s 23ms/step - loss: 1332.2439 - accuracy: 0.3375 - val_loss: 1550.0999 - val_accuracy: 0.3750\n",
      "Epoch 15/200\n",
      "3/3 [==============================] - 0s 37ms/step - loss: 1043.8303 - accuracy: 0.4187 - val_loss: 623.0648 - val_accuracy: 0.3250\n",
      "Epoch 16/200\n",
      "3/3 [==============================] - 0s 59ms/step - loss: 606.7887 - accuracy: 0.3313 - val_loss: 620.3370 - val_accuracy: 0.3250\n",
      "Epoch 17/200\n",
      "3/3 [==============================] - 0s 56ms/step - loss: 889.6135 - accuracy: 0.3750 - val_loss: 605.3495 - val_accuracy: 0.3250\n",
      "Epoch 18/200\n",
      "3/3 [==============================] - 0s 32ms/step - loss: 758.7316 - accuracy: 0.3625 - val_loss: 421.6485 - val_accuracy: 0.3250\n",
      "Epoch 19/200\n",
      "3/3 [==============================] - 0s 32ms/step - loss: 506.7684 - accuracy: 0.3875 - val_loss: 808.2599 - val_accuracy: 0.3250\n",
      "Epoch 20/200\n",
      "3/3 [==============================] - 0s 28ms/step - loss: 592.6888 - accuracy: 0.3000 - val_loss: 395.6660 - val_accuracy: 0.3000\n",
      "Epoch 21/200\n",
      "3/3 [==============================] - 0s 31ms/step - loss: 356.6769 - accuracy: 0.2562 - val_loss: 283.4124 - val_accuracy: 0.4000\n",
      "Epoch 22/200\n",
      "3/3 [==============================] - 0s 31ms/step - loss: 418.0781 - accuracy: 0.3938 - val_loss: 213.2909 - val_accuracy: 0.3750\n",
      "Epoch 23/200\n",
      "3/3 [==============================] - 0s 29ms/step - loss: 210.8621 - accuracy: 0.4500 - val_loss: 352.5410 - val_accuracy: 0.3750\n",
      "Epoch 24/200\n",
      "3/3 [==============================] - 0s 31ms/step - loss: 222.2180 - accuracy: 0.3750 - val_loss: 118.7121 - val_accuracy: 0.3500\n",
      "Epoch 25/200\n",
      "3/3 [==============================] - 0s 27ms/step - loss: 117.8849 - accuracy: 0.3625 - val_loss: 151.0320 - val_accuracy: 0.4500\n",
      "Epoch 26/200\n",
      "3/3 [==============================] - 0s 34ms/step - loss: 115.7335 - accuracy: 0.4437 - val_loss: 133.4304 - val_accuracy: 0.4500\n",
      "Epoch 27/200\n",
      "3/3 [==============================] - 0s 39ms/step - loss: 134.6503 - accuracy: 0.4688 - val_loss: 82.7876 - val_accuracy: 0.3500\n",
      "Epoch 28/200\n",
      "3/3 [==============================] - 0s 33ms/step - loss: 98.2308 - accuracy: 0.3438 - val_loss: 81.2622 - val_accuracy: 0.4750\n",
      "Epoch 29/200\n",
      "3/3 [==============================] - 0s 37ms/step - loss: 55.8116 - accuracy: 0.4062 - val_loss: 43.9405 - val_accuracy: 0.4500\n",
      "Epoch 30/200\n",
      "3/3 [==============================] - 0s 38ms/step - loss: 37.2585 - accuracy: 0.5250 - val_loss: 17.0476 - val_accuracy: 0.5000\n",
      "Epoch 31/200\n",
      "3/3 [==============================] - 0s 38ms/step - loss: 32.3298 - accuracy: 0.4938 - val_loss: 22.0178 - val_accuracy: 0.6750\n",
      "Epoch 32/200\n",
      "3/3 [==============================] - 0s 37ms/step - loss: 28.4080 - accuracy: 0.5625 - val_loss: 70.1299 - val_accuracy: 0.4000\n",
      "Epoch 33/200\n",
      "3/3 [==============================] - 0s 35ms/step - loss: 51.0764 - accuracy: 0.4375 - val_loss: 83.4976 - val_accuracy: 0.4000\n",
      "Epoch 34/200\n",
      "3/3 [==============================] - 0s 39ms/step - loss: 59.2852 - accuracy: 0.5125 - val_loss: 100.0707 - val_accuracy: 0.3500\n",
      "Epoch 35/200\n",
      "3/3 [==============================] - 0s 40ms/step - loss: 62.8588 - accuracy: 0.4187 - val_loss: 98.5335 - val_accuracy: 0.4000\n",
      "Epoch 36/200\n",
      "3/3 [==============================] - 0s 33ms/step - loss: 90.3630 - accuracy: 0.4313 - val_loss: 38.8800 - val_accuracy: 0.4250\n",
      "Epoch 37/200\n",
      "3/3 [==============================] - 0s 33ms/step - loss: 16.8749 - accuracy: 0.5250 - val_loss: 63.1101 - val_accuracy: 0.3750\n",
      "Epoch 38/200\n",
      "3/3 [==============================] - 0s 45ms/step - loss: 38.8187 - accuracy: 0.4875 - val_loss: 43.1786 - val_accuracy: 0.4750\n",
      "Epoch 39/200\n",
      "3/3 [==============================] - 0s 25ms/step - loss: 23.1059 - accuracy: 0.5750 - val_loss: 26.3583 - val_accuracy: 0.7000\n",
      "Epoch 40/200\n",
      "3/3 [==============================] - 0s 32ms/step - loss: 50.7407 - accuracy: 0.5875 - val_loss: 22.2747 - val_accuracy: 0.5000\n",
      "Epoch 41/200\n",
      "3/3 [==============================] - 0s 23ms/step - loss: 23.8152 - accuracy: 0.5375 - val_loss: 33.8806 - val_accuracy: 0.7250\n",
      "Epoch 42/200\n",
      "3/3 [==============================] - 0s 30ms/step - loss: 53.0784 - accuracy: 0.5938 - val_loss: 33.6251 - val_accuracy: 0.4500\n",
      "Epoch 43/200\n",
      "3/3 [==============================] - 0s 26ms/step - loss: 45.6307 - accuracy: 0.4938 - val_loss: 7.9148 - val_accuracy: 0.5500\n",
      "Epoch 44/200\n",
      "3/3 [==============================] - 0s 29ms/step - loss: 19.4500 - accuracy: 0.6375 - val_loss: 56.0476 - val_accuracy: 0.6000\n",
      "Epoch 45/200\n",
      "3/3 [==============================] - 0s 29ms/step - loss: 21.4065 - accuracy: 0.6000 - val_loss: 72.6345 - val_accuracy: 0.4250\n",
      "Epoch 46/200\n",
      "3/3 [==============================] - 0s 24ms/step - loss: 63.8094 - accuracy: 0.4688 - val_loss: 113.1545 - val_accuracy: 0.2750\n",
      "Epoch 47/200\n",
      "3/3 [==============================] - 0s 33ms/step - loss: 57.4363 - accuracy: 0.5125 - val_loss: 51.3387 - val_accuracy: 0.6000\n",
      "Epoch 48/200\n",
      "3/3 [==============================] - 0s 25ms/step - loss: 50.8507 - accuracy: 0.5875 - val_loss: 64.1317 - val_accuracy: 0.3500\n",
      "Epoch 49/200\n",
      "3/3 [==============================] - 0s 72ms/step - loss: 51.9834 - accuracy: 0.3938 - val_loss: 53.0946 - val_accuracy: 0.4500\n",
      "Epoch 50/200\n",
      "3/3 [==============================] - 0s 54ms/step - loss: 110.7961 - accuracy: 0.5188 - val_loss: 6.5409 - val_accuracy: 0.6000\n",
      "Epoch 51/200\n",
      "3/3 [==============================] - 0s 26ms/step - loss: 76.1225 - accuracy: 0.5250 - val_loss: 211.2903 - val_accuracy: 0.4000\n",
      "Epoch 52/200\n",
      "3/3 [==============================] - 0s 30ms/step - loss: 107.8442 - accuracy: 0.4938 - val_loss: 104.2512 - val_accuracy: 0.5000\n",
      "Epoch 53/200\n",
      "3/3 [==============================] - 0s 28ms/step - loss: 156.1091 - accuracy: 0.5000 - val_loss: 25.6147 - val_accuracy: 0.5250\n",
      "Epoch 54/200\n",
      "3/3 [==============================] - 0s 30ms/step - loss: 90.1884 - accuracy: 0.5375 - val_loss: 216.7344 - val_accuracy: 0.4750\n",
      "Epoch 55/200\n",
      "3/3 [==============================] - 0s 36ms/step - loss: 112.0583 - accuracy: 0.5813 - val_loss: 86.4254 - val_accuracy: 0.5250\n",
      "Epoch 56/200\n",
      "3/3 [==============================] - 0s 26ms/step - loss: 187.0211 - accuracy: 0.5188 - val_loss: 117.4004 - val_accuracy: 0.7250\n",
      "Epoch 57/200\n"
     ]
    },
    {
     "name": "stdout",
     "output_type": "stream",
     "text": [
      "3/3 [==============================] - 0s 37ms/step - loss: 78.0863 - accuracy: 0.6062 - val_loss: 227.1948 - val_accuracy: 0.4000\n",
      "Epoch 58/200\n",
      "3/3 [==============================] - 0s 33ms/step - loss: 142.6775 - accuracy: 0.4750 - val_loss: 30.8303 - val_accuracy: 0.5500\n",
      "Epoch 59/200\n",
      "3/3 [==============================] - 0s 33ms/step - loss: 106.9498 - accuracy: 0.5750 - val_loss: 45.0281 - val_accuracy: 0.6000\n",
      "Epoch 60/200\n",
      "3/3 [==============================] - 0s 25ms/step - loss: 69.8238 - accuracy: 0.6250 - val_loss: 142.9607 - val_accuracy: 0.6000\n",
      "Epoch 61/200\n",
      "3/3 [==============================] - 0s 36ms/step - loss: 68.9689 - accuracy: 0.6187 - val_loss: 59.3044 - val_accuracy: 0.6500\n",
      "Epoch 62/200\n",
      "3/3 [==============================] - 0s 30ms/step - loss: 48.2576 - accuracy: 0.6313 - val_loss: 49.0511 - val_accuracy: 0.4250\n",
      "Epoch 63/200\n",
      "3/3 [==============================] - 0s 27ms/step - loss: 55.0853 - accuracy: 0.5750 - val_loss: 16.2274 - val_accuracy: 0.8250\n",
      "Epoch 64/200\n",
      "3/3 [==============================] - 0s 49ms/step - loss: 31.3563 - accuracy: 0.7188 - val_loss: 13.3793 - val_accuracy: 0.7500\n",
      "Epoch 65/200\n",
      "3/3 [==============================] - 0s 49ms/step - loss: 34.4726 - accuracy: 0.6438 - val_loss: 9.0952 - val_accuracy: 0.5000\n",
      "Epoch 66/200\n",
      "3/3 [==============================] - 0s 49ms/step - loss: 20.1852 - accuracy: 0.6187 - val_loss: 38.1540 - val_accuracy: 0.6250\n",
      "Epoch 67/200\n",
      "3/3 [==============================] - 0s 49ms/step - loss: 51.1830 - accuracy: 0.5688 - val_loss: 49.7845 - val_accuracy: 0.5250\n",
      "Epoch 68/200\n",
      "3/3 [==============================] - 0s 58ms/step - loss: 40.4266 - accuracy: 0.6750 - val_loss: 10.9826 - val_accuracy: 0.5750\n",
      "Epoch 69/200\n",
      "3/3 [==============================] - 0s 27ms/step - loss: 11.8873 - accuracy: 0.6812 - val_loss: 15.8471 - val_accuracy: 0.8000\n",
      "Epoch 70/200\n",
      "3/3 [==============================] - 0s 35ms/step - loss: 13.0011 - accuracy: 0.7812 - val_loss: 17.7969 - val_accuracy: 0.5000\n",
      "Epoch 71/200\n",
      "3/3 [==============================] - 0s 43ms/step - loss: 19.7820 - accuracy: 0.6687 - val_loss: 29.0746 - val_accuracy: 0.5000\n",
      "Epoch 72/200\n",
      "3/3 [==============================] - 0s 56ms/step - loss: 7.5620 - accuracy: 0.7000 - val_loss: 4.9798 - val_accuracy: 0.7500\n",
      "Epoch 73/200\n",
      "3/3 [==============================] - 0s 46ms/step - loss: 10.8762 - accuracy: 0.7000 - val_loss: 1.7003 - val_accuracy: 0.6500\n",
      "Epoch 74/200\n",
      "3/3 [==============================] - 0s 27ms/step - loss: 4.8512 - accuracy: 0.7375 - val_loss: 9.6834 - val_accuracy: 0.5250\n",
      "Epoch 75/200\n",
      "3/3 [==============================] - 0s 26ms/step - loss: 15.6908 - accuracy: 0.6687 - val_loss: 4.3181 - val_accuracy: 0.8750\n",
      "Epoch 76/200\n",
      "3/3 [==============================] - 0s 26ms/step - loss: 15.5966 - accuracy: 0.6687 - val_loss: 3.5223 - val_accuracy: 0.5750\n",
      "Epoch 77/200\n",
      "3/3 [==============================] - 0s 31ms/step - loss: 14.5455 - accuracy: 0.5437 - val_loss: 5.8811 - val_accuracy: 0.7750\n",
      "Epoch 78/200\n",
      "3/3 [==============================] - 0s 126ms/step - loss: 33.9108 - accuracy: 0.6125 - val_loss: 3.7432 - val_accuracy: 0.7750\n",
      "Epoch 79/200\n",
      "3/3 [==============================] - ETA: 0s - loss: 0.4501 - accuracy: 0.79 - 0s 82ms/step - loss: 37.1568 - accuracy: 0.6938 - val_loss: 60.8598 - val_accuracy: 0.5750\n",
      "Epoch 80/200\n",
      "3/3 [==============================] - 0s 35ms/step - loss: 21.4691 - accuracy: 0.7688 - val_loss: 39.1811 - val_accuracy: 0.6500\n",
      "Epoch 81/200\n",
      "3/3 [==============================] - 0s 26ms/step - loss: 41.3756 - accuracy: 0.6875 - val_loss: 126.5836 - val_accuracy: 0.4000\n",
      "Epoch 82/200\n",
      "3/3 [==============================] - 0s 79ms/step - loss: 124.4241 - accuracy: 0.5063 - val_loss: 94.6484 - val_accuracy: 0.4750\n",
      "Epoch 83/200\n",
      "3/3 [==============================] - 0s 26ms/step - loss: 63.5501 - accuracy: 0.5688 - val_loss: 71.0202 - val_accuracy: 0.4000\n",
      "Epoch 84/200\n",
      "3/3 [==============================] - 0s 37ms/step - loss: 45.3376 - accuracy: 0.5750 - val_loss: 136.1502 - val_accuracy: 0.5750\n",
      "Epoch 85/200\n",
      "3/3 [==============================] - 0s 66ms/step - loss: 112.7451 - accuracy: 0.5375 - val_loss: 45.3383 - val_accuracy: 0.4000\n",
      "Epoch 86/200\n",
      "3/3 [==============================] - 0s 21ms/step - loss: 27.4593 - accuracy: 0.5188 - val_loss: 43.5363 - val_accuracy: 0.6500\n",
      "Epoch 87/200\n",
      "3/3 [==============================] - 0s 31ms/step - loss: 61.0099 - accuracy: 0.5312 - val_loss: 40.5510 - val_accuracy: 0.5000\n",
      "Epoch 88/200\n",
      "3/3 [==============================] - 0s 94ms/step - loss: 22.3150 - accuracy: 0.6000 - val_loss: 34.9328 - val_accuracy: 0.4500\n",
      "Epoch 89/200\n",
      "3/3 [==============================] - 0s 40ms/step - loss: 39.9856 - accuracy: 0.5688 - val_loss: 19.9151 - val_accuracy: 0.6750\n",
      "Epoch 90/200\n",
      "3/3 [==============================] - 0s 32ms/step - loss: 9.3428 - accuracy: 0.7125 - val_loss: 18.0190 - val_accuracy: 0.7000\n",
      "Epoch 91/200\n",
      "3/3 [==============================] - 0s 27ms/step - loss: 27.7927 - accuracy: 0.5938 - val_loss: 56.0198 - val_accuracy: 0.4500\n",
      "Epoch 92/200\n",
      "3/3 [==============================] - 0s 38ms/step - loss: 53.4970 - accuracy: 0.5750 - val_loss: 7.1367 - val_accuracy: 0.6500\n",
      "Epoch 93/200\n",
      "3/3 [==============================] - 0s 29ms/step - loss: 27.2787 - accuracy: 0.7437 - val_loss: 25.2878 - val_accuracy: 0.6750\n",
      "Epoch 94/200\n",
      "3/3 [==============================] - 0s 32ms/step - loss: 36.8734 - accuracy: 0.6062 - val_loss: 44.7144 - val_accuracy: 0.5000\n",
      "Epoch 95/200\n",
      "3/3 [==============================] - 0s 54ms/step - loss: 16.9872 - accuracy: 0.6125 - val_loss: 25.2539 - val_accuracy: 0.5500\n",
      "Epoch 96/200\n",
      "3/3 [==============================] - 0s 53ms/step - loss: 25.2858 - accuracy: 0.6062 - val_loss: 44.0107 - val_accuracy: 0.6000\n",
      "Epoch 97/200\n",
      "3/3 [==============================] - 0s 35ms/step - loss: 72.5612 - accuracy: 0.6062 - val_loss: 4.9039 - val_accuracy: 0.6250\n",
      "Epoch 98/200\n",
      "3/3 [==============================] - 0s 49ms/step - loss: 33.8541 - accuracy: 0.6125 - val_loss: 15.9503 - val_accuracy: 0.5250\n",
      "Epoch 99/200\n",
      "3/3 [==============================] - 0s 39ms/step - loss: 30.9554 - accuracy: 0.4938 - val_loss: 8.9540 - val_accuracy: 0.7750\n",
      "Epoch 100/200\n",
      "3/3 [==============================] - 0s 29ms/step - loss: 15.1285 - accuracy: 0.7063 - val_loss: 12.3715 - val_accuracy: 0.7500\n",
      "Epoch 101/200\n",
      "3/3 [==============================] - 0s 30ms/step - loss: 10.0726 - accuracy: 0.6812 - val_loss: 14.3439 - val_accuracy: 0.6750\n",
      "Epoch 102/200\n",
      "3/3 [==============================] - 0s 60ms/step - loss: 7.2591 - accuracy: 0.7625 - val_loss: 10.9139 - val_accuracy: 0.6750\n",
      "Epoch 103/200\n",
      "3/3 [==============================] - 0s 74ms/step - loss: 4.9788 - accuracy: 0.7812 - val_loss: 10.1841 - val_accuracy: 0.6250\n",
      "Epoch 104/200\n",
      "3/3 [==============================] - 0s 37ms/step - loss: 5.0047 - accuracy: 0.7250 - val_loss: 5.8382 - val_accuracy: 0.7500\n",
      "Epoch 105/200\n",
      "3/3 [==============================] - 0s 39ms/step - loss: 5.3444 - accuracy: 0.6000 - val_loss: 9.9975 - val_accuracy: 0.5750\n",
      "Epoch 106/200\n",
      "3/3 [==============================] - 0s 36ms/step - loss: 5.6687 - accuracy: 0.5938 - val_loss: 5.9083 - val_accuracy: 0.8500\n",
      "Epoch 107/200\n",
      "3/3 [==============================] - 0s 29ms/step - loss: 5.1491 - accuracy: 0.6938 - val_loss: 6.3636 - val_accuracy: 0.6750\n",
      "Epoch 108/200\n",
      "3/3 [==============================] - 0s 40ms/step - loss: 5.1888 - accuracy: 0.6687 - val_loss: 10.1004 - val_accuracy: 0.6750\n",
      "Epoch 109/200\n",
      "3/3 [==============================] - 0s 36ms/step - loss: 5.2917 - accuracy: 0.5500 - val_loss: 5.0434 - val_accuracy: 0.7750\n",
      "Epoch 110/200\n",
      "3/3 [==============================] - 0s 28ms/step - loss: 9.3134 - accuracy: 0.7312 - val_loss: 6.4773 - val_accuracy: 0.7750\n",
      "Epoch 111/200\n",
      "3/3 [==============================] - 0s 30ms/step - loss: 9.4575 - accuracy: 0.7437 - val_loss: 3.5016 - val_accuracy: 0.7250\n",
      "Epoch 112/200\n",
      "3/3 [==============================] - 0s 43ms/step - loss: 8.2217 - accuracy: 0.7500 - val_loss: 3.0152 - val_accuracy: 0.6500\n",
      "Epoch 113/200\n",
      "3/3 [==============================] - 0s 55ms/step - loss: 4.8433 - accuracy: 0.6313 - val_loss: 4.3072 - val_accuracy: 0.7750\n",
      "Epoch 114/200\n"
     ]
    },
    {
     "name": "stdout",
     "output_type": "stream",
     "text": [
      "3/3 [==============================] - 0s 36ms/step - loss: 5.5409 - accuracy: 0.7188 - val_loss: 5.5448 - val_accuracy: 0.6000\n",
      "Epoch 115/200\n",
      "3/3 [==============================] - 0s 32ms/step - loss: 7.3190 - accuracy: 0.6375 - val_loss: 4.1674 - val_accuracy: 0.5250\n",
      "Epoch 116/200\n",
      "3/3 [==============================] - 0s 33ms/step - loss: 9.2957 - accuracy: 0.5750 - val_loss: 4.3724 - val_accuracy: 0.5750\n",
      "Epoch 117/200\n",
      "3/3 [==============================] - 0s 25ms/step - loss: 5.2799 - accuracy: 0.5562 - val_loss: 5.2578 - val_accuracy: 0.6500\n",
      "Epoch 118/200\n",
      "3/3 [==============================] - 0s 35ms/step - loss: 11.3765 - accuracy: 0.6000 - val_loss: 9.9717 - val_accuracy: 0.7750\n",
      "Epoch 119/200\n",
      "3/3 [==============================] - 0s 37ms/step - loss: 8.3219 - accuracy: 0.6687 - val_loss: 11.1647 - val_accuracy: 0.5250\n",
      "Epoch 120/200\n",
      "3/3 [==============================] - 0s 27ms/step - loss: 4.3837 - accuracy: 0.6750 - val_loss: 5.9643 - val_accuracy: 0.6250\n",
      "Epoch 121/200\n",
      "3/3 [==============================] - 0s 37ms/step - loss: 13.2966 - accuracy: 0.6938 - val_loss: 10.1710 - val_accuracy: 0.5000\n",
      "Epoch 122/200\n",
      "3/3 [==============================] - 0s 34ms/step - loss: 5.6067 - accuracy: 0.6000 - val_loss: 3.9391 - val_accuracy: 0.5750\n",
      "Epoch 123/200\n",
      "3/3 [==============================] - 0s 26ms/step - loss: 3.8885 - accuracy: 0.6875 - val_loss: 0.8994 - val_accuracy: 0.6250\n",
      "Epoch 124/200\n",
      "3/3 [==============================] - 0s 22ms/step - loss: 7.8492 - accuracy: 0.6187 - val_loss: 2.6266 - val_accuracy: 0.5750\n",
      "Epoch 125/200\n",
      "3/3 [==============================] - 0s 24ms/step - loss: 9.6967 - accuracy: 0.5813 - val_loss: 3.8470 - val_accuracy: 0.5250\n",
      "Epoch 126/200\n",
      "3/3 [==============================] - 0s 54ms/step - loss: 31.2296 - accuracy: 0.5250 - val_loss: 18.0359 - val_accuracy: 0.7250\n",
      "Epoch 127/200\n",
      "3/3 [==============================] - 0s 43ms/step - loss: 30.2757 - accuracy: 0.6438 - val_loss: 90.4678 - val_accuracy: 0.3750\n",
      "Epoch 128/200\n",
      "3/3 [==============================] - 0s 32ms/step - loss: 38.9129 - accuracy: 0.5625 - val_loss: 42.6844 - val_accuracy: 0.4500\n",
      "Epoch 129/200\n",
      "3/3 [==============================] - 0s 44ms/step - loss: 58.2783 - accuracy: 0.5063 - val_loss: 72.3124 - val_accuracy: 0.5000\n",
      "Epoch 130/200\n",
      "3/3 [==============================] - 0s 31ms/step - loss: 72.8845 - accuracy: 0.5562 - val_loss: 18.2511 - val_accuracy: 0.7000\n",
      "Epoch 131/200\n",
      "3/3 [==============================] - 0s 39ms/step - loss: 47.1273 - accuracy: 0.6313 - val_loss: 22.2834 - val_accuracy: 0.5500\n",
      "Epoch 132/200\n",
      "3/3 [==============================] - 0s 24ms/step - loss: 46.8481 - accuracy: 0.6187 - val_loss: 18.8090 - val_accuracy: 0.6750\n",
      "Epoch 133/200\n",
      "3/3 [==============================] - 0s 27ms/step - loss: 9.1150 - accuracy: 0.7063 - val_loss: 47.2388 - val_accuracy: 0.4500\n",
      "Epoch 134/200\n",
      "3/3 [==============================] - 0s 37ms/step - loss: 54.0583 - accuracy: 0.5500 - val_loss: 26.2968 - val_accuracy: 0.7250\n",
      "Epoch 135/200\n",
      "3/3 [==============================] - 0s 33ms/step - loss: 20.0925 - accuracy: 0.7250 - val_loss: 1.9104 - val_accuracy: 0.6500\n",
      "Epoch 136/200\n",
      "3/3 [==============================] - 0s 20ms/step - loss: 7.0767 - accuracy: 0.7063 - val_loss: 1.9083 - val_accuracy: 0.7750\n",
      "Epoch 137/200\n",
      "3/3 [==============================] - 0s 36ms/step - loss: 3.8984 - accuracy: 0.7500 - val_loss: 7.1749 - val_accuracy: 0.6250\n",
      "Epoch 138/200\n",
      "3/3 [==============================] - 0s 39ms/step - loss: 5.6211 - accuracy: 0.6500 - val_loss: 3.5019 - val_accuracy: 0.6750\n",
      "Epoch 139/200\n",
      "3/3 [==============================] - 0s 39ms/step - loss: 6.7815 - accuracy: 0.8000 - val_loss: 0.5923 - val_accuracy: 0.7500\n",
      "Epoch 140/200\n",
      "3/3 [==============================] - 0s 36ms/step - loss: 3.4066 - accuracy: 0.7500 - val_loss: 3.4875 - val_accuracy: 0.7750\n",
      "Epoch 141/200\n",
      "3/3 [==============================] - 0s 49ms/step - loss: 4.2197 - accuracy: 0.7875 - val_loss: 1.0013 - val_accuracy: 0.8750\n",
      "Epoch 142/200\n",
      "3/3 [==============================] - 0s 46ms/step - loss: 3.5746 - accuracy: 0.7563 - val_loss: 0.8144 - val_accuracy: 0.7750\n",
      "Epoch 143/200\n",
      "3/3 [==============================] - 0s 36ms/step - loss: 2.9496 - accuracy: 0.8625 - val_loss: 3.1904 - val_accuracy: 0.9250\n",
      "Epoch 144/200\n",
      "3/3 [==============================] - 0s 51ms/step - loss: 3.3451 - accuracy: 0.8687 - val_loss: 5.0149 - val_accuracy: 0.7500\n",
      "Epoch 145/200\n",
      "3/3 [==============================] - 0s 51ms/step - loss: 4.3022 - accuracy: 0.8125 - val_loss: 2.8658 - val_accuracy: 0.7750\n",
      "Epoch 146/200\n",
      "3/3 [==============================] - 0s 40ms/step - loss: 6.1192 - accuracy: 0.7500 - val_loss: 3.4248 - val_accuracy: 0.6250\n",
      "Epoch 147/200\n",
      "3/3 [==============================] - 0s 44ms/step - loss: 4.7640 - accuracy: 0.7188 - val_loss: 3.1127 - val_accuracy: 0.6750\n",
      "Epoch 148/200\n",
      "3/3 [==============================] - 0s 47ms/step - loss: 15.5218 - accuracy: 0.7625 - val_loss: 6.9624 - val_accuracy: 0.7750\n",
      "Epoch 149/200\n",
      "3/3 [==============================] - 0s 45ms/step - loss: 14.7764 - accuracy: 0.6750 - val_loss: 6.3513 - val_accuracy: 0.6750\n",
      "Epoch 150/200\n",
      "3/3 [==============================] - 0s 49ms/step - loss: 70.5487 - accuracy: 0.7375 - val_loss: 13.5516 - val_accuracy: 0.7500\n",
      "Epoch 151/200\n",
      "3/3 [==============================] - 0s 37ms/step - loss: 25.7705 - accuracy: 0.7688 - val_loss: 5.5156 - val_accuracy: 0.7000\n",
      "Epoch 152/200\n",
      "3/3 [==============================] - 0s 69ms/step - loss: 22.1457 - accuracy: 0.7688 - val_loss: 3.3582 - val_accuracy: 0.6750\n",
      "Epoch 153/200\n",
      "3/3 [==============================] - 0s 43ms/step - loss: 31.5665 - accuracy: 0.5938 - val_loss: 7.5054 - val_accuracy: 0.6000\n",
      "Epoch 154/200\n",
      "3/3 [==============================] - 0s 59ms/step - loss: 5.7780 - accuracy: 0.6812 - val_loss: 35.8537 - val_accuracy: 0.5250\n",
      "Epoch 155/200\n",
      "3/3 [==============================] - 0s 49ms/step - loss: 40.2322 - accuracy: 0.6187 - val_loss: 29.4494 - val_accuracy: 0.6000\n",
      "Epoch 156/200\n",
      "3/3 [==============================] - 0s 49ms/step - loss: 27.2150 - accuracy: 0.5562 - val_loss: 14.3314 - val_accuracy: 0.5750\n",
      "Epoch 157/200\n",
      "3/3 [==============================] - 0s 47ms/step - loss: 37.2366 - accuracy: 0.6313 - val_loss: 5.9355 - val_accuracy: 0.5000\n",
      "Epoch 158/200\n",
      "3/3 [==============================] - 0s 47ms/step - loss: 32.3075 - accuracy: 0.4875 - val_loss: 7.8662 - val_accuracy: 0.6500\n",
      "Epoch 159/200\n",
      "3/3 [==============================] - 0s 43ms/step - loss: 9.0026 - accuracy: 0.7312 - val_loss: 11.9947 - val_accuracy: 0.6500\n",
      "Epoch 160/200\n",
      "3/3 [==============================] - 0s 38ms/step - loss: 28.9867 - accuracy: 0.6625 - val_loss: 18.9896 - val_accuracy: 0.6000\n",
      "Epoch 161/200\n",
      "3/3 [==============================] - 0s 50ms/step - loss: 8.3377 - accuracy: 0.7437 - val_loss: 10.3336 - val_accuracy: 0.7250\n",
      "Epoch 162/200\n",
      "3/3 [==============================] - 0s 40ms/step - loss: 16.8338 - accuracy: 0.6562 - val_loss: 38.4898 - val_accuracy: 0.5000\n",
      "Epoch 163/200\n",
      "3/3 [==============================] - 0s 38ms/step - loss: 13.5705 - accuracy: 0.6625 - val_loss: 3.1694 - val_accuracy: 0.7250\n",
      "Epoch 164/200\n",
      "3/3 [==============================] - 0s 48ms/step - loss: 3.2030 - accuracy: 0.7125 - val_loss: 4.1020 - val_accuracy: 0.7250\n",
      "Epoch 165/200\n",
      "3/3 [==============================] - 0s 42ms/step - loss: 9.5114 - accuracy: 0.7500 - val_loss: 3.7234 - val_accuracy: 0.8250\n",
      "Epoch 166/200\n",
      "3/3 [==============================] - 0s 49ms/step - loss: 5.3656 - accuracy: 0.7937 - val_loss: 0.7322 - val_accuracy: 0.8000\n",
      "Epoch 167/200\n",
      "3/3 [==============================] - 0s 49ms/step - loss: 3.1599 - accuracy: 0.7750 - val_loss: 5.9352 - val_accuracy: 0.6750\n",
      "Epoch 168/200\n",
      "3/3 [==============================] - 0s 37ms/step - loss: 12.5516 - accuracy: 0.7812 - val_loss: 3.4216 - val_accuracy: 0.8250\n",
      "Epoch 169/200\n",
      "3/3 [==============================] - 0s 52ms/step - loss: 13.9102 - accuracy: 0.7000 - val_loss: 1.1795 - val_accuracy: 0.8000\n",
      "Epoch 170/200\n",
      "3/3 [==============================] - 0s 42ms/step - loss: 9.6096 - accuracy: 0.8562 - val_loss: 4.1344 - val_accuracy: 0.7750\n",
      "Epoch 171/200\n"
     ]
    },
    {
     "name": "stdout",
     "output_type": "stream",
     "text": [
      "3/3 [==============================] - 0s 37ms/step - loss: 12.4151 - accuracy: 0.7688 - val_loss: 5.6670 - val_accuracy: 0.7500\n",
      "Epoch 172/200\n",
      "3/3 [==============================] - 0s 50ms/step - loss: 16.7031 - accuracy: 0.7688 - val_loss: 6.3514 - val_accuracy: 0.8250\n",
      "Epoch 173/200\n",
      "3/3 [==============================] - 0s 53ms/step - loss: 7.2661 - accuracy: 0.7625 - val_loss: 6.5221 - val_accuracy: 0.8750\n",
      "Epoch 174/200\n",
      "3/3 [==============================] - 0s 43ms/step - loss: 3.1282 - accuracy: 0.8000 - val_loss: 1.3430 - val_accuracy: 0.6750\n",
      "Epoch 175/200\n",
      "3/3 [==============================] - 0s 43ms/step - loss: 10.2519 - accuracy: 0.7625 - val_loss: 3.3048 - val_accuracy: 0.7500\n",
      "Epoch 176/200\n",
      "3/3 [==============================] - 0s 44ms/step - loss: 27.3608 - accuracy: 0.7312 - val_loss: 3.0717 - val_accuracy: 0.6250\n",
      "Epoch 177/200\n",
      "3/3 [==============================] - 0s 48ms/step - loss: 17.2128 - accuracy: 0.6812 - val_loss: 2.2908 - val_accuracy: 0.7500\n",
      "Epoch 178/200\n",
      "3/3 [==============================] - 0s 46ms/step - loss: 5.3042 - accuracy: 0.7375 - val_loss: 29.2369 - val_accuracy: 0.6250\n",
      "Epoch 179/200\n",
      "3/3 [==============================] - 0s 48ms/step - loss: 8.8031 - accuracy: 0.7500 - val_loss: 11.2471 - val_accuracy: 0.9000\n",
      "Epoch 180/200\n",
      "3/3 [==============================] - 0s 39ms/step - loss: 28.4717 - accuracy: 0.8438 - val_loss: 22.0658 - val_accuracy: 0.5750\n",
      "Epoch 181/200\n",
      "3/3 [==============================] - 0s 57ms/step - loss: 50.1943 - accuracy: 0.6500 - val_loss: 9.0503 - val_accuracy: 0.6250\n",
      "Epoch 182/200\n",
      "3/3 [==============================] - 0s 55ms/step - loss: 97.3688 - accuracy: 0.6938 - val_loss: 32.9316 - val_accuracy: 0.6000\n",
      "Epoch 183/200\n",
      "3/3 [==============================] - ETA: 0s - loss: 97.0042 - accuracy: 0.593 - 0s 39ms/step - loss: 73.6624 - accuracy: 0.6625 - val_loss: 162.0240 - val_accuracy: 0.5000\n",
      "Epoch 184/200\n",
      "3/3 [==============================] - ETA: 0s - loss: 124.1688 - accuracy: 0.59 - 0s 45ms/step - loss: 65.3222 - accuracy: 0.6500 - val_loss: 42.4268 - val_accuracy: 0.6750\n",
      "Epoch 185/200\n",
      "3/3 [==============================] - 0s 44ms/step - loss: 50.3836 - accuracy: 0.7563 - val_loss: 13.6706 - val_accuracy: 0.6000\n",
      "Epoch 186/200\n",
      "3/3 [==============================] - 0s 34ms/step - loss: 18.1068 - accuracy: 0.6313 - val_loss: 1.8594 - val_accuracy: 0.8000\n",
      "Epoch 187/200\n",
      "3/3 [==============================] - 0s 41ms/step - loss: 7.4036 - accuracy: 0.7875 - val_loss: 22.3271 - val_accuracy: 0.7750\n",
      "Epoch 188/200\n",
      "3/3 [==============================] - 0s 36ms/step - loss: 22.2930 - accuracy: 0.7625 - val_loss: 38.9720 - val_accuracy: 0.5250\n",
      "Epoch 189/200\n",
      "3/3 [==============================] - 0s 27ms/step - loss: 22.2605 - accuracy: 0.6875 - val_loss: 18.8556 - val_accuracy: 0.9250\n",
      "Epoch 190/200\n",
      "3/3 [==============================] - 0s 43ms/step - loss: 36.4748 - accuracy: 0.9187 - val_loss: 2.3259 - val_accuracy: 0.8750\n",
      "Epoch 191/200\n",
      "3/3 [==============================] - 0s 46ms/step - loss: 9.5527 - accuracy: 0.7688 - val_loss: 4.2598 - val_accuracy: 0.8000\n",
      "Epoch 192/200\n",
      "3/3 [==============================] - 0s 47ms/step - loss: 4.1883 - accuracy: 0.8125 - val_loss: 5.6109 - val_accuracy: 0.8500\n",
      "Epoch 193/200\n",
      "3/3 [==============================] - 0s 42ms/step - loss: 9.1028 - accuracy: 0.7688 - val_loss: 12.2197 - val_accuracy: 0.5500\n",
      "Epoch 194/200\n",
      "3/3 [==============================] - 0s 48ms/step - loss: 6.5268 - accuracy: 0.6187 - val_loss: 3.3046 - val_accuracy: 0.7750\n",
      "Epoch 195/200\n",
      "3/3 [==============================] - 0s 51ms/step - loss: 6.3590 - accuracy: 0.7937 - val_loss: 4.5815 - val_accuracy: 0.4500\n",
      "Epoch 196/200\n",
      "3/3 [==============================] - 0s 48ms/step - loss: 5.5384 - accuracy: 0.6812 - val_loss: 4.5604 - val_accuracy: 0.8250\n",
      "Epoch 197/200\n",
      "3/3 [==============================] - 0s 46ms/step - loss: 3.7011 - accuracy: 0.6875 - val_loss: 6.6484 - val_accuracy: 0.5750\n",
      "Epoch 198/200\n",
      "3/3 [==============================] - 0s 30ms/step - loss: 5.3124 - accuracy: 0.6000 - val_loss: 2.1211 - val_accuracy: 0.7750\n",
      "Epoch 199/200\n",
      "3/3 [==============================] - 0s 43ms/step - loss: 4.5660 - accuracy: 0.7312 - val_loss: 4.7243 - val_accuracy: 0.7000\n",
      "Epoch 200/200\n",
      "3/3 [==============================] - 0s 50ms/step - loss: 3.4601 - accuracy: 0.8000 - val_loss: 7.2369 - val_accuracy: 0.8000\n"
     ]
    }
   ],
   "source": [
    "num_epochs=200\n",
    "history = model.fit(x_train, y,validation_data=(x_test, target_test), epochs=num_epochs,batch_size=64,verbose=1)\n"
   ]
  },
  {
   "cell_type": "markdown",
   "id": "f4590748",
   "metadata": {},
   "source": [
    "The next grafics let us know, how much the neuronal network classified the inputs correctly."
   ]
  },
  {
   "cell_type": "code",
   "execution_count": 620,
   "id": "333ac5b1",
   "metadata": {},
   "outputs": [],
   "source": [
    "epochs = range(1, num_epochs+1)\n",
    "\n",
    "# during training\n",
    "loss = history.history['loss']\n",
    "accuracy = history.history['accuracy']\n",
    "\n",
    "# outside training\n",
    "val_loss = history.history['val_loss']\n",
    "val_accuracy = history.history['val_accuracy']"
   ]
  },
  {
   "cell_type": "code",
   "execution_count": 621,
   "id": "0114647b",
   "metadata": {},
   "outputs": [
    {
     "data": {
      "image/png": "[encoded data removed]",
      "text/plain": [
       "<Figure size 432x288 with 1 Axes>"
      ]
     },
     "metadata": {
      "needs_background": "light"
     },
     "output_type": "display_data"
    }
   ],
   "source": [
    "# Graficas de loss\n",
    "plt.plot(epochs[:], loss[:], 'r')\n",
    "plt.plot(epochs[:], val_loss[:], 'b')\n",
    "plt.xlabel('Epochs')\n",
    "plt.ylabel('LOSS')\n",
    "plt.legend(['train', 'test'], loc='upper left')\n",
    "plt.show()"
   ]
  },
  {
   "cell_type": "code",
   "execution_count": 622,
   "id": "1bbd9e0c",
   "metadata": {},
   "outputs": [
    {
     "data": {
      "image/png": "[encoded data removed]",
      "text/plain": [
       "<Figure size 432x288 with 1 Axes>"
      ]
     },
     "metadata": {
      "needs_background": "light"
     },
     "output_type": "display_data"
    }
   ],
   "source": [
    "# Graficas de accuracy\n",
    "plt.plot(epochs, accuracy, 'r')\n",
    "plt.plot(epochs, val_accuracy, 'b')\n",
    "plt.xlabel('Epochs')\n",
    "plt.ylabel('Accuracy')\n",
    "plt.legend(['train', 'test'], loc='upper left')\n",
    "plt.show()"
   ]
  },
  {
   "cell_type": "markdown",
   "id": "40db10e7",
   "metadata": {},
   "source": [
    "The next pass is evaluate the test part, we create a function for compare the quantities of asserts and the percentages of assert."
   ]
  },
  {
   "cell_type": "code",
   "execution_count": 594,
   "id": "3faf3918",
   "metadata": {},
   "outputs": [
    {
     "name": "stdout",
     "output_type": "stream",
     "text": [
      "6/6 [==============================] - 0s 2ms/step - loss: 2.7198 - accuracy: 0.8895\n"
     ]
    }
   ],
   "source": [
    "# evaluamos el modelo\n",
    "scores = model.evaluate(x_train, y)\n",
    "y_t = []\n",
    "ls = []\n",
    "for i in y_test:\n",
    "    ls = [0 for i in range(6)]\n",
    "    ls[i] = 1\n",
    "    y_t.append(ls)\n",
    "y_t = pd.DataFrame(y_t)\n",
    "y_predicted = model.predict(x_test).round()"
   ]
  },
  {
   "cell_type": "code",
   "execution_count": 595,
   "id": "cf4ed861",
   "metadata": {},
   "outputs": [
    {
     "name": "stdout",
     "output_type": "stream",
     "text": [
      "Cantidad total de pruebas: 10\n",
      "Cantidad total de aciertos: 9\n",
      "Porcentaje de aciertos: 90.0%\n",
      "[2, 5, 5, 5, 2, 2, 4, 3, 0, 4]\n",
      "[2, 5, 5, 5, 1, 2, 4, 3, 0, 4]\n"
     ]
    }
   ],
   "source": [
    "stadistics(convert_at_type_array(y_predicted),convert_at_type_array(y_t.to_numpy()))\n",
    "\n",
    "print(convert_at_type_array(y_predicted))\n",
    "print(convert_at_type_array(y_t.to_numpy())) \n"
   ]
  },
  {
   "cell_type": "markdown",
   "id": "d7592b4a",
   "metadata": {},
   "source": [
    "The final pass is save the model. We save the best models in two files (json for the model and h5 file for the weights of the neuronal network)."
   ]
  },
  {
   "cell_type": "code",
   "execution_count": 422,
   "id": "ec6b5ce3",
   "metadata": {},
   "outputs": [],
   "source": [
    "name = \"prueba\""
   ]
  },
  {
   "cell_type": "code",
   "execution_count": 423,
   "id": "ec05eef1",
   "metadata": {},
   "outputs": [
    {
     "name": "stdout",
     "output_type": "stream",
     "text": [
      "Modelo Guardado!\n"
     ]
    }
   ],
   "source": [
    "model_json = model.to_json()\n",
    "with open(\"./jsons/\"+name+\".json\", \"w\") as json_file:\n",
    "    json_file.write(model_json)\n",
    "model.save_weights(\"./h_fives/\"+name+\".h5\")\n",
    "print(\"Modelo Guardado!\")"
   ]
  },
  {
   "cell_type": "markdown",
   "id": "0f8dbd66",
   "metadata": {},
   "source": [
    "## Resultados"
   ]
  },
  {
   "cell_type": "markdown",
   "id": "13b556bc",
   "metadata": {},
   "source": [
    "When we save all the results we compare all the cases with the best score, the 3° experiment get the best result to be applied and we use this."
   ]
  },
  {
   "cell_type": "code",
   "execution_count": null,
   "id": "96524089",
   "metadata": {},
   "outputs": [],
   "source": []
  }
 ],
 "metadata": {
  "kernelspec": {
   "display_name": "Python 3 (ipykernel)",
   "language": "python",
   "name": "python3"
  },
  "language_info": {
   "codemirror_mode": {
    "name": "ipython",
    "version": 3
   },
   "file_extension": ".py",
   "mimetype": "text/x-python",
   "name": "python",
   "nbconvert_exporter": "python",
   "pygments_lexer": "ipython3",
   "version": "3.9.7"
  }
 },
 "nbformat": 4,
 "nbformat_minor": 5
}
